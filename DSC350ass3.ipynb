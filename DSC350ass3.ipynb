{
 "cells": [
  {
   "cell_type": "markdown",
   "id": "eec8b74a-09c4-44ce-816a-05ae9efeb590",
   "metadata": {},
   "source": [
    "### Rachana Amgai\n",
    "### Assignment 3\n",
    "### 12/11/2024\n"
   ]
  },
  {
   "cell_type": "code",
   "execution_count": 10,
   "id": "d9c44f9f-65a8-4e70-8f93-56a9c8cca40b",
   "metadata": {},
   "outputs": [],
   "source": [
    "import pandas as pd\n",
    "\n",
    "# Simulate dataset for exercises\n",
    "data = {\n",
    "    'location': ['Japan', 'Indonesia', 'Nevada', 'California', 'Chile', 'Alaska'],\n",
    "    'magnitude_type': ['mb', 'mb', 'mb', 'mb', 'mb', 'mb'],\n",
    "    'magnitude': [6.8, 5.7, 4.1, 6.2, 7.4, 6.5],\n",
    "    'tsunami': [0, 1, 0, 0, 1, 0]\n",
    "}\n",
    "# Create DataFrame\n",
    "earthquake_data = pd.DataFrame(data)"
   ]
  },
  {
   "cell_type": "code",
   "execution_count": 12,
   "id": "bf189e05-4503-4fe3-afd7-90bfe66f0011",
   "metadata": {},
   "outputs": [
    {
     "name": "stdout",
     "output_type": "stream",
     "text": [
      "95th percentile magnitude in Japan (mb): 6.8\n"
     ]
    }
   ],
   "source": [
    "# 1. Find the 95th percentile of earthquake magnitude in Japan using 'mb'\n",
    "japan_mb_95th = earthquake_data[(earthquake_data['location'] == 'Japan') & (earthquake_data['magnitude_type'] == 'mb')]['magnitude'].quantile(0.95)\n",
    "print(f\"95th percentile magnitude in Japan (mb): {japan_mb_95th}\")"
   ]
  },
  {
   "cell_type": "code",
   "execution_count": 14,
   "id": "3f6a0fba-f3e5-4110-8423-ea9579df0a37",
   "metadata": {},
   "outputs": [
    {
     "name": "stdout",
     "output_type": "stream",
     "text": [
      "Percentage of earthquakes with tsunamis in Indonesia: 100.00%\n"
     ]
    }
   ],
   "source": [
    "# 2. Find the percentage of earthquakes in Indonesia coupled with tsunamis\n",
    "indonesia_eq = earthquake_data[earthquake_data['location'] == 'Indonesia']\n",
    "ts_percentage = (indonesia_eq['tsunami'].sum() / len(indonesia_eq)) * 100\n",
    "print(f\"Percentage of earthquakes with tsunamis in Indonesia: {ts_percentage:.2f}%\")\n"
   ]
  },
  {
   "cell_type": "code",
   "execution_count": 18,
   "id": "fea2176a-cb63-4616-9ac4-972f4444d444",
   "metadata": {},
   "outputs": [
    {
     "name": "stdout",
     "output_type": "stream",
     "text": [
      "Summary statistics for earthquakes in Nevada:\n",
      "        magnitude  tsunami\n",
      "count        1.0      1.0\n",
      "mean         4.1      0.0\n",
      "std          NaN      NaN\n",
      "min          4.1      0.0\n",
      "25%          4.1      0.0\n",
      "50%          4.1      0.0\n",
      "75%          4.1      0.0\n",
      "max          4.1      0.0\n"
     ]
    }
   ],
   "source": [
    "# 3. Calculate summary statistics for earthquakes in Nevada\n",
    "nevada_stats = earthquake_data[earthquake_data['location'] == 'Nevada'].describe()\n",
    "print(\"Summary statistics for earthquakes in Nevada:\\n\", nevada_stats)"
   ]
  },
  {
   "cell_type": "code",
   "execution_count": 32,
   "id": "42aa2649-8068-47ca-9c81-c739090e7fc8",
   "metadata": {},
   "outputs": [],
   "source": [
    "# 4. Add a column indicating whether the earthquake happened in a Ring of Fire location\n",
    "ring_of_fire = ['Alaska', 'Antarctic', 'Bolivia', 'California', 'Canada', 'Chile', 'Costa Rica', 'Ecuador', \n",
    "                'Fiji', 'Guatemala', 'Indonesia', 'Japan', 'Kermadec Islands', 'Mexico', 'New Zealand', 'Peru',\n",
    "                'Philippines', 'Russia', 'Taiwan', 'Tonga', 'Washington']\n",
    "\n",
    "earthquake_data['ring_of_fire'] = earthquake_data['location'].isin(ring_of_fire)"
   ]
  },
  {
   "cell_type": "code",
   "execution_count": 34,
   "id": "8db2fb46-a985-4b03-860f-475daef2c2af",
   "metadata": {},
   "outputs": [
    {
     "name": "stdout",
     "output_type": "stream",
     "text": [
      "Number of earthquakes in Ring of Fire: 5\n",
      "Number of earthquakes outside Ring of Fire: 1\n"
     ]
    }
   ],
   "source": [
    "# 5. Calculate the number of earthquakes in the Ring of Fire locations and outside\n",
    "eq_in_ring_of_fire = earthquake_data['ring_of_fire'].sum()\n",
    "eq_outside_ring_of_fire = len(earthquake_data) - eq_in_ring_of_fire\n",
    "print(f\"Number of earthquakes in Ring of Fire: {eq_in_ring_of_fire}\")\n",
    "print(f\"Number of earthquakes outside Ring of Fire: {eq_outside_ring_of_fire}\")\n"
   ]
  },
  {
   "cell_type": "code",
   "execution_count": 36,
   "id": "c6d93f90-27c7-4a63-8cbc-bb1463a03ef4",
   "metadata": {},
   "outputs": [
    {
     "name": "stdout",
     "output_type": "stream",
     "text": [
      "Tsunami count along Ring of Fire: 2\n"
     ]
    }
   ],
   "source": [
    "# 6. Find the tsunami count along the Ring of Fire\n",
    "ring_of_fire_tsunamis = earthquake_data[earthquake_data['ring_of_fire']]['tsunami'].sum()\n",
    "print(f\"Tsunami count along Ring of Fire: {ring_of_fire_tsunamis}\")\n"
   ]
  },
  {
   "cell_type": "code",
   "execution_count": null,
   "id": "846733cd-d48c-4f02-8680-750b4d9d00ca",
   "metadata": {},
   "outputs": [],
   "source": []
  }
 ],
 "metadata": {
  "kernelspec": {
   "display_name": "Python 3 (ipykernel)",
   "language": "python",
   "name": "python3"
  },
  "language_info": {
   "codemirror_mode": {
    "name": "ipython",
    "version": 3
   },
   "file_extension": ".py",
   "mimetype": "text/x-python",
   "name": "python",
   "nbconvert_exporter": "python",
   "pygments_lexer": "ipython3",
   "version": "3.12.4"
  }
 },
 "nbformat": 4,
 "nbformat_minor": 5
}
